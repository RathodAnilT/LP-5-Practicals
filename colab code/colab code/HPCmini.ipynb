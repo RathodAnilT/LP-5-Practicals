{
  "nbformat": 4,
  "nbformat_minor": 0,
  "metadata": {
    "colab": {
      "provenance": []
    },
    "kernelspec": {
      "name": "python3",
      "display_name": "Python 3"
    },
    "language_info": {
      "name": "python"
    }
  },
  "cells": [
    {
      "cell_type": "code",
      "source": [
        "%%writefile huffman_encoding.cu\n",
        "#include <stdio.h>\n",
        "#include <cuda.h>\n",
        "\n",
        "// CUDA kernel for dummy encoding\n",
        "__global__ void encodeHuffman(char *input, char *output, int *codes, int length) {\n",
        "    int idx = threadIdx.x;\n",
        "    if (idx < length) {\n",
        "        output[idx] = (char)(codes[(int)input[idx]]);\n",
        "    }\n",
        "}\n",
        "\n",
        "int main() {\n",
        "    const int length = 10;\n",
        "    char h_input[] = \"HELLOCUDA!\";     // input string\n",
        "    char h_output[length+1];           // output string\n",
        "    h_output[length] = '\\0';           // null-terminator\n",
        "\n",
        "    int h_codes[128]; // Dummy Huffman code table\n",
        "\n",
        "    // Map ASCII codes to uppercase alphabets cyclically: 'A' to 'Z'\n",
        "    for (int i = 0; i < 128; i++) {\n",
        "        h_codes[i] = 'A' + (i % 26);\n",
        "    }\n",
        "\n",
        "    char *d_input, *d_output;\n",
        "    int *d_codes;\n",
        "\n",
        "    cudaMalloc((void**)&d_input, length * sizeof(char));\n",
        "    cudaMalloc((void**)&d_output, length * sizeof(char));\n",
        "    cudaMalloc((void**)&d_codes, 128 * sizeof(int));\n",
        "\n",
        "    cudaMemcpy(d_input, h_input, length * sizeof(char), cudaMemcpyHostToDevice);\n",
        "    cudaMemcpy(d_codes, h_codes, 128 * sizeof(int), cudaMemcpyHostToDevice);\n",
        "\n",
        "    encodeHuffman<<<1, length>>>(d_input, d_output, d_codes, length);\n",
        "\n",
        "    cudaMemcpy(h_output, d_output, length * sizeof(char), cudaMemcpyDeviceToHost);\n",
        "\n",
        "    printf(\"Original : %s\\\\n\", h_input);\n",
        "    printf(\"Encoded  : %s\\\\n\", h_output);\n",
        "\n",
        "    printf(\"Original ASCII : \");\n",
        "    for (int i = 0; i < length; i++)\n",
        "        printf(\"%d \", (int)h_input[i]);\n",
        "    printf(\"\\\\n\");\n",
        "\n",
        "    printf(\"Encoded ASCII  : \");\n",
        "    for (int i = 0; i < length; i++)\n",
        "        printf(\"%d \", (int)h_output[i]);\n",
        "    printf(\"\\\\n\");\n",
        "\n",
        "    cudaFree(d_input);\n",
        "    cudaFree(d_output);\n",
        "    cudaFree(d_codes);\n",
        "\n",
        "    return 0;\n",
        "}\n"
      ],
      "metadata": {
        "colab": {
          "base_uri": "https://localhost:8080/"
        },
        "id": "MEEJ1G5-HpbQ",
        "outputId": "1b66baee-ab80-401c-8176-59752a69b8ea"
      },
      "execution_count": null,
      "outputs": [
        {
          "output_type": "stream",
          "name": "stdout",
          "text": [
            "Writing huffman_encoding.cu\n"
          ]
        }
      ]
    },
    {
      "cell_type": "code",
      "source": [
        "!nvcc huffman_encoding.cu -o huffman\n",
        "!./huffman\n"
      ],
      "metadata": {
        "colab": {
          "base_uri": "https://localhost:8080/"
        },
        "id": "vidKvI3sIFpv",
        "outputId": "c49cb95f-577f-4c10-f7da-672bb72e8c77"
      },
      "execution_count": null,
      "outputs": [
        {
          "output_type": "stream",
          "name": "stdout",
          "text": [
            "Original : HELLOCUDA!\\nEncoded  : \\nOriginal ASCII : 72 69 76 76 79 67 85 68 65 33 \\nEncoded ASCII  : 0 0 0 0 0 0 0 0 0 0 \\n"
          ]
        }
      ]
    }
  ]
}