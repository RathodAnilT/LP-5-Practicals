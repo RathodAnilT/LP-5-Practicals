{
  "nbformat": 4,
  "nbformat_minor": 0,
  "metadata": {
    "colab": {
      "provenance": []
    },
    "kernelspec": {
      "name": "python3",
      "display_name": "Python 3"
    },
    "language_info": {
      "name": "python"
    }
  },
  "cells": [
    {
      "cell_type": "code",
      "execution_count": null,
      "metadata": {
        "id": "UdkkWnOBoSt4",
        "colab": {
          "base_uri": "https://localhost:8080/"
        },
        "outputId": "368e31a2-740c-43e9-b7f9-a408a38c7a68"
      },
      "outputs": [
        {
          "output_type": "stream",
          "name": "stdout",
          "text": [
            "Writing parallel_mergesort_openmp.cpp\n"
          ]
        }
      ],
      "source": [
        "%%writefile parallel_mergesort_openmp.cpp\n",
        "#include <iostream>\n",
        "#include <omp.h>\n",
        "using namespace std;\n",
        "\n",
        "void merge(int arr[], int left, int mid, int right) {\n",
        "    int n1 = mid - left + 1;\n",
        "    int n2 = right - mid;\n",
        "\n",
        "    int L[n1], R[n2];\n",
        "\n",
        "    for (int i = 0; i < n1; i++)\n",
        "        L[i] = arr[left + i];\n",
        "    for (int i = 0; i < n2; i++)\n",
        "        R[i] = arr[mid + 1 + i];\n",
        "\n",
        "    int i = 0, j = 0, k = left;\n",
        "    while (i < n1 && j < n2) {\n",
        "        if (L[i] <= R[j]) {\n",
        "            arr[k] = L[i];\n",
        "            i++;\n",
        "        } else {\n",
        "            arr[k] = R[j];\n",
        "            j++;\n",
        "        }\n",
        "        k++;\n",
        "    }\n",
        "\n",
        "    while (i < n1) {\n",
        "        arr[k] = L[i];\n",
        "        i++;\n",
        "        k++;\n",
        "    }\n",
        "\n",
        "    while (j < n2) {\n",
        "        arr[k] = R[j];\n",
        "        j++;\n",
        "        k++;\n",
        "    }\n",
        "}\n",
        "\n",
        "void mergeSort(int arr[], int left, int right) {\n",
        "    if (left < right) {\n",
        "        int mid = left + (right - left) / 2;\n",
        "\n",
        "        #pragma omp parallel sections\n",
        "        {\n",
        "            #pragma omp section\n",
        "            mergeSort(arr, left, mid);\n",
        "\n",
        "            #pragma omp section\n",
        "            mergeSort(arr, mid + 1, right);\n",
        "        }\n",
        "\n",
        "        merge(arr, left, mid, right);\n",
        "    }\n",
        "}\n",
        "\n",
        "int main() {\n",
        "    int n;\n",
        "    cout << \"Enter number of elements: \";\n",
        "    cin >> n;\n",
        "    int arr[n];\n",
        "\n",
        "    cout << \"Enter elements: \";\n",
        "    for (int i = 0; i < n; i++)\n",
        "        cin >> arr[i];\n",
        "\n",
        "    mergeSort(arr, 0, n - 1);\n",
        "\n",
        "    cout << \"Sorted array: \";\n",
        "    for (int i = 0; i < n; i++)\n",
        "        cout << arr[i] << \" \";\n",
        "    cout << endl;\n",
        "\n",
        "    return 0;\n",
        "}\n"
      ]
    },
    {
      "cell_type": "code",
      "source": [
        "!g++ -fopenmp parallel_mergesort_openmp.cpp -o parallel_mergesort_openmp"
      ],
      "metadata": {
        "id": "jxYgj58ApqNt"
      },
      "execution_count": null,
      "outputs": []
    },
    {
      "cell_type": "code",
      "source": [
        "!./parallel_mergesort_openmp"
      ],
      "metadata": {
        "colab": {
          "base_uri": "https://localhost:8080/"
        },
        "id": "NcrQahy8puia",
        "outputId": "0169d0a9-d596-4a03-c71b-4e34d57ac50e"
      },
      "execution_count": null,
      "outputs": [
        {
          "output_type": "stream",
          "name": "stdout",
          "text": [
            "Enter number of elements: 6\n",
            "Enter elements: 4 8 1 3 2 9\n",
            "Sorted array: 1 2 3 4 8 9 \n"
          ]
        }
      ]
    }
  ]
}