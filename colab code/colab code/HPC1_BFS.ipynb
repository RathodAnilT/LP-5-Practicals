{
  "nbformat": 4,
  "nbformat_minor": 0,
  "metadata": {
    "colab": {
      "provenance": []
    },
    "kernelspec": {
      "name": "python3",
      "display_name": "Python 3"
    },
    "language_info": {
      "name": "python"
    }
  },
  "cells": [
    {
      "cell_type": "code",
      "execution_count": null,
      "metadata": {
        "colab": {
          "base_uri": "https://localhost:8080/"
        },
        "id": "6te4HI7LmNGT",
        "outputId": "0101bab4-e6a3-4ac4-f061-1953032fe6de"
      },
      "outputs": [
        {
          "output_type": "stream",
          "name": "stdout",
          "text": [
            "Writing bfs_openmp.cpp\n"
          ]
        }
      ],
      "source": [
        "%%writefile bfs_openmp.cpp\n",
        "#include <iostream>\n",
        "#include <queue>\n",
        "#include <omp.h>\n",
        "using namespace std;\n",
        "\n",
        "const int MAX = 1000;\n",
        "int graph[MAX][MAX], visited[MAX];\n",
        "\n",
        "void bfs(int start, int n) {\n",
        "    queue<int> q;\n",
        "    visited[start] = 1;\n",
        "    q.push(start);\n",
        "\n",
        "    while (!q.empty()) {\n",
        "        int curr = q.front();\n",
        "        q.pop();\n",
        "\n",
        "        // Parallelize visiting neighbors\n",
        "        #pragma omp parallel for shared(graph, visited, q) schedule(dynamic)\n",
        "        for (int i = 0; i < n; i++) {\n",
        "            if (graph[curr][i]) {\n",
        "                // Use critical section to avoid race conditions\n",
        "                #pragma omp critical\n",
        "                {\n",
        "                    if (!visited[i]) {\n",
        "                        visited[i] = 1;\n",
        "                        q.push(i);\n",
        "                    }\n",
        "                }\n",
        "            }\n",
        "        }\n",
        "    }\n",
        "}\n",
        "\n",
        "int main() {\n",
        "    int n, start;\n",
        "    cout << \"Enter number of vertices: \";\n",
        "    cin >> n;\n",
        "\n",
        "    cout << \"Enter adjacency matrix:\\n\";\n",
        "    for (int i = 0; i < n; i++) {\n",
        "        for (int j = 0; j < n; j++) {\n",
        "            cin >> graph[i][j];\n",
        "        }\n",
        "    }\n",
        "\n",
        "    cout << \"Enter starting vertex: \";\n",
        "    cin >> start;\n",
        "\n",
        "    // Initialize visited array to 0\n",
        "    for (int i = 0; i < n; i++) {\n",
        "        visited[i] = 0;\n",
        "    }\n",
        "\n",
        "    bfs(start, n);\n",
        "\n",
        "    cout << \"BFS traversal: \";\n",
        "    for (int i = 0; i < n; i++) {\n",
        "        if (visited[i])\n",
        "            cout << i << \" \";\n",
        "    }\n",
        "    cout << endl;\n",
        "    return 0;\n",
        "}\n"
      ]
    },
    {
      "cell_type": "code",
      "source": [
        "!g++ -fopenmp bfs_openmp.cpp -o bfs_openmp"
      ],
      "metadata": {
        "id": "j5GnkMhummyO"
      },
      "execution_count": null,
      "outputs": []
    },
    {
      "cell_type": "code",
      "source": [
        "!./bfs_openmp"
      ],
      "metadata": {
        "colab": {
          "base_uri": "https://localhost:8080/"
        },
        "id": "IJdxj0-NmqQE",
        "outputId": "f0de3031-caad-4231-bd48-af5ae700c7db"
      },
      "execution_count": null,
      "outputs": [
        {
          "output_type": "stream",
          "name": "stdout",
          "text": [
            "Enter number of vertices: 5\n",
            "Enter adjacency matrix:\n",
            "0 1 0 1 0 \n",
            "0 1 1 1 1 \n",
            "1 0 0 0 1 \n",
            "1 0 1 0 1 \n",
            "1 0 0 0 0 \n",
            "Enter starting vertex: 0\n",
            "BFS traversal: 0 1 2 3 4 \n"
          ]
        }
      ]
    },
    {
      "cell_type": "code",
      "source": [],
      "metadata": {
        "id": "dpvnPtW4mxGw"
      },
      "execution_count": null,
      "outputs": []
    }
  ]
}