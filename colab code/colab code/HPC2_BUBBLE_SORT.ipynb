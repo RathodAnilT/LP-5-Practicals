{
  "nbformat": 4,
  "nbformat_minor": 0,
  "metadata": {
    "colab": {
      "provenance": []
    },
    "kernelspec": {
      "name": "python3",
      "display_name": "Python 3"
    },
    "language_info": {
      "name": "python"
    }
  },
  "cells": [
    {
      "cell_type": "code",
      "execution_count": null,
      "metadata": {
        "colab": {
          "base_uri": "https://localhost:8080/"
        },
        "id": "V9PK3PGXoNAo",
        "outputId": "35bd5308-5ff8-4d7a-abf9-61e4815e9690"
      },
      "outputs": [
        {
          "output_type": "stream",
          "name": "stdout",
          "text": [
            "Writing parallel_bubblesort_openmp.cpp\n"
          ]
        }
      ],
      "source": [
        "%%writefile parallel_bubblesort_openmp.cpp\n",
        "#include <iostream>\n",
        "#include <omp.h>\n",
        "using namespace std;\n",
        "\n",
        "void bubbleSort(int arr[], int n) {\n",
        "    for (int i = 0; i < n - 1; i++) {\n",
        "        bool swapped = false;\n",
        "        #pragma omp parallel for shared(arr, swapped)\n",
        "        for (int j = 0; j < n - i - 1; j++) {\n",
        "            if (arr[j] > arr[j + 1]) {\n",
        "                swap(arr[j], arr[j + 1]);\n",
        "                swapped = true;\n",
        "            }\n",
        "        }\n",
        "        if (!swapped) break;\n",
        "    }\n",
        "}\n",
        "\n",
        "int main() {\n",
        "    int n;\n",
        "    cout << \"Enter number of elements: \";\n",
        "    cin >> n;\n",
        "    int arr[n];\n",
        "\n",
        "    cout << \"Enter elements: \";\n",
        "    for (int i = 0; i < n; i++)\n",
        "        cin >> arr[i];\n",
        "\n",
        "    bubbleSort(arr, n);\n",
        "\n",
        "    cout << \"Sorted array: \";\n",
        "    for (int i = 0; i < n; i++)\n",
        "        cout << arr[i] << \" \";\n",
        "    cout << endl;\n",
        "\n",
        "    return 0;\n",
        "}\n"
      ]
    },
    {
      "cell_type": "code",
      "source": [
        "!g++ -fopenmp parallel_bubblesort_openmp.cpp -o parallel_bubblesort_openmp"
      ],
      "metadata": {
        "id": "wwn8BQWCoSVO"
      },
      "execution_count": null,
      "outputs": []
    },
    {
      "cell_type": "code",
      "source": [
        "!./parallel_bubblesort_openmp"
      ],
      "metadata": {
        "colab": {
          "base_uri": "https://localhost:8080/"
        },
        "id": "oJBMJS9KoVT1",
        "outputId": "504b3f7c-bb63-44c7-c086-d38e282da10d"
      },
      "execution_count": null,
      "outputs": [
        {
          "output_type": "stream",
          "name": "stdout",
          "text": [
            "Enter number of elements: 5\n",
            "Enter elements: 4 9 2 1 8\n",
            "Sorted array: 1 2 4 9 8 \n"
          ]
        }
      ]
    }
  ]
}