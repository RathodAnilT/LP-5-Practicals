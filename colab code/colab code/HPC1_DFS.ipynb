{
  "nbformat": 4,
  "nbformat_minor": 0,
  "metadata": {
    "colab": {
      "provenance": []
    },
    "kernelspec": {
      "name": "python3",
      "display_name": "Python 3"
    },
    "language_info": {
      "name": "python"
    }
  },
  "cells": [
    {
      "cell_type": "code",
      "execution_count": null,
      "metadata": {
        "colab": {
          "base_uri": "https://localhost:8080/"
        },
        "id": "wgL-XvtQnFMp",
        "outputId": "dc96d684-3f82-4949-8371-cd4a973b6bf5"
      },
      "outputs": [
        {
          "output_type": "stream",
          "name": "stdout",
          "text": [
            "Writing parallel_dfs_openmp.cpp\n"
          ]
        }
      ],
      "source": [
        "%%writefile parallel_dfs_openmp.cpp\n",
        "#include <iostream>\n",
        "#include <stack>\n",
        "#include <vector>\n",
        "#include <omp.h>\n",
        "\n",
        "using namespace std;\n",
        "\n",
        "const int MAX = 1000;\n",
        "int graph[MAX][MAX], visited[MAX];\n",
        "\n",
        "void parallel_dfs(int start, int n) {\n",
        "    stack<int> s;\n",
        "    s.push(start);\n",
        "\n",
        "    #pragma omp parallel\n",
        "    {\n",
        "        while (!s.empty()) {\n",
        "            int curr;\n",
        "\n",
        "            #pragma omp critical\n",
        "            {\n",
        "                if (!s.empty()) {\n",
        "                    curr = s.top();\n",
        "                    s.pop();\n",
        "                } else {\n",
        "                    curr = -1;\n",
        "                }\n",
        "            }\n",
        "\n",
        "            if (curr != -1 && !visited[curr]) {\n",
        "                visited[curr] = 1;\n",
        "\n",
        "                #pragma omp parallel for\n",
        "                for (int i = 0; i < n; i++) {\n",
        "                    if (graph[curr][i] && !visited[i]) {\n",
        "                        #pragma omp critical\n",
        "                        {\n",
        "                            if (!visited[i]) {\n",
        "                                s.push(i);\n",
        "                            }\n",
        "                        }\n",
        "                    }\n",
        "                }\n",
        "            }\n",
        "        }\n",
        "    }\n",
        "}\n",
        "\n",
        "int main() {\n",
        "    int n, start;\n",
        "    cout << \"Enter number of vertices: \";\n",
        "    cin >> n;\n",
        "\n",
        "    cout << \"Enter adjacency matrix:\\n\";\n",
        "    for (int i = 0; i < n; i++)\n",
        "        for (int j = 0; j < n; j++)\n",
        "            cin >> graph[i][j];\n",
        "\n",
        "    cout << \"Enter starting vertex: \";\n",
        "    cin >> start;\n",
        "\n",
        "    parallel_dfs(start, n);\n",
        "\n",
        "    cout << \"DFS traversal: \";\n",
        "    for (int i = 0; i < n; i++)\n",
        "        if (visited[i])\n",
        "            cout << i << \" \";\n",
        "    cout << endl;\n",
        "\n",
        "    return 0;\n",
        "}\n"
      ]
    },
    {
      "cell_type": "code",
      "source": [
        "!g++ -fopenmp parallel_dfs_openmp.cpp -o parallel_dfs_openmp"
      ],
      "metadata": {
        "id": "mOn3Wp19nfQ1"
      },
      "execution_count": null,
      "outputs": []
    },
    {
      "cell_type": "code",
      "source": [
        "!./parallel_dfs_openmp"
      ],
      "metadata": {
        "colab": {
          "base_uri": "https://localhost:8080/"
        },
        "id": "E2gcBwednjW_",
        "outputId": "95f524a6-fccd-4776-fda7-c1f3ec8fedec"
      },
      "execution_count": null,
      "outputs": [
        {
          "output_type": "stream",
          "name": "stdout",
          "text": [
            "Enter number of vertices: 3\n",
            "Enter adjacency matrix:\n",
            "1 1 1 \n",
            "0 1 1 \n",
            "1 0 0 \n",
            "Enter starting vertex: 0\n",
            "DFS traversal: 0 1 2 \n"
          ]
        }
      ]
    }
  ]
}