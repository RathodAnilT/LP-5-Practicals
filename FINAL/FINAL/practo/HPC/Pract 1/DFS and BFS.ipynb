{
 "cells": [
  {
   "cell_type": "markdown",
   "metadata": {
    "id": "gV6CajAiC4uN"
   },
   "source": [
    "Practical 1\n",
    "\n",
    "Design and implement Parallel Breadth First Search and Depth First Search based on existing algorithms using OpenMP. Use a Tree or an undirected graph for BFS and DFS ."
   ]
  },
  {
   "cell_type": "code",
   "execution_count": 2,
   "metadata": {
    "colab": {
     "base_uri": "https://localhost:8080/"
    },
    "executionInfo": {
     "elapsed": 7,
     "status": "ok",
     "timestamp": 1745633064401,
     "user": {
      "displayName": "Anil Rathod",
      "userId": "11879838791631308534"
     },
     "user_tz": -330
    },
    "id": "JuFzk-WF1Qap",
    "outputId": "7795048e-0a8b-4c21-8e3c-0c483d80b0e6"
   },
   "outputs": [
    {
     "name": "stdout",
     "output_type": "stream",
     "text": [
      "Writing dfs_openmp.cpp\n"
     ]
    }
   ],
   "source": [
    "%%writefile dfs_openmp.cpp\n",
    "#include <iostream>\n",
    "#include <stack>\n",
    "#include <omp.h>\n",
    "using namespace std;\n",
    "\n",
    "const int MAX = 1000;\n",
    "int graph[MAX][MAX], visited[MAX];\n",
    "\n",
    "void dfs(int start, int n) {\n",
    "    stack<int> s;\n",
    "    s.push(start);\n",
    "    while (!s.empty()) {\n",
    "        int curr = s.top();\n",
    "        s.pop();\n",
    "        if (!visited[curr]) {\n",
    "            visited[curr] = 1;\n",
    "            #pragma omp parallel for shared(graph, visited, s) schedule(dynamic)\n",
    "            for (int i = 0; i < n; i++) {\n",
    "                if (graph[curr][i] && !visited[i]) {\n",
    "                    s.push(i);\n",
    "                }\n",
    "            }\n",
    "        }\n",
    "    }\n",
    "}\n",
    "\n",
    "int main() {\n",
    "    int n, start;\n",
    "    cout << \"Enter number of vertices: \";\n",
    "    cin >> n;\n",
    "    cout << \"Enter adjacency matrix:\\n\";\n",
    "    for (int i = 0; i < n; i++) {\n",
    "        for (int j = 0; j < n; j++) {\n",
    "            cin >> graph[i][j];\n",
    "        }\n",
    "    }\n",
    "    cout << \"Enter starting vertex: \";\n",
    "    cin >> start;\n",
    "    #pragma omp parallel num_threads(4)\n",
    "    {\n",
    "        dfs(start, n);\n",
    "    }\n",
    "    cout << \"DFS traversal: \";\n",
    "    for (int i = 0; i < n; i++) {\n",
    "        if (visited[i])\n",
    "            cout << i << \" \";\n",
    "    }\n",
    "    cout << endl;\n",
    "    return 0;\n",
    "}\n"
   ]
  },
  {
   "cell_type": "code",
   "execution_count": 3,
   "metadata": {
    "colab": {
     "base_uri": "https://localhost:8080/"
    },
    "executionInfo": {
     "elapsed": 90947,
     "status": "ok",
     "timestamp": 1745633260905,
     "user": {
      "displayName": "Anil Rathod",
      "userId": "11879838791631308534"
     },
     "user_tz": -330
    },
    "id": "uKmgJW3m1rRj",
    "outputId": "07c34d7e-84bf-45b8-8ae1-0c618248cbd3"
   },
   "outputs": [
    {
     "name": "stdout",
     "output_type": "stream",
     "text": [
      "Enter number of vertices: 4\n",
      "Enter adjacency matrix:\n",
      "0 1 0 0\n",
      "1 0 1 1\n",
      "0 1 0 1\n",
      "0 1 1 0\n",
      "Enter starting vertex: 0\n",
      "DFS traversal: 0 1 2 3 \n"
     ]
    }
   ],
   "source": [
    "!g++ -fo4penmp dfs_openmp.cpp -o dfs_openmp\n",
    "!./dfs_openmp\n"
   ]
  },
  {
   "cell_type": "code",
   "execution_count": 1,
   "metadata": {
    "colab": {
     "base_uri": "https://localhost:8080/"
    },
    "executionInfo": {
     "elapsed": 27,
     "status": "ok",
     "timestamp": 1745634403671,
     "user": {
      "displayName": "Anil Rathod",
      "userId": "11879838791631308534"
     },
     "user_tz": -330
    },
    "id": "jO9QSJ942vha",
    "outputId": "6f5bbb11-1ce8-4d56-febb-486b12d02d4f"
   },
   "outputs": [
    {
     "name": "stdout",
     "output_type": "stream",
     "text": [
      "Writing bfs_openmp.cpp\n"
     ]
    }
   ],
   "source": [
    "%%writefile bfs_openmp.cpp\n",
    "#include <iostream>\n",
    "#include <queue>\n",
    "#include <omp.h>\n",
    "using namespace std;\n",
    "\n",
    "const int MAX = 1000;\n",
    "int graph[MAX][MAX], visited[MAX];\n",
    "\n",
    "void bfs(int start, int n) {\n",
    "    queue<int> q;\n",
    "    visited[start] = 1;\n",
    "    q.push(start);\n",
    "    while (!q.empty()) {\n",
    "        int curr = q.front();\n",
    "        q.pop();\n",
    "        #pragma omp parallel for shared(graph, visited, q) schedule(dynamic)\n",
    "        for (int i = 0; i < n; i++) {\n",
    "            if (graph[curr][i] && !visited[i]) {\n",
    "                #pragma omp critical\n",
    "                {\n",
    "                    visited[i] = 1;\n",
    "                    q.push(i);\n",
    "                }\n",
    "            }\n",
    "        }\n",
    "    }\n",
    "}\n",
    "\n",
    "int main() {\n",
    "    int n, start;\n",
    "    cout << \"Enter number of vertices: \";\n",
    "    cin >> n;\n",
    "    cout << \"Enter adjacency matrix:\\n\";\n",
    "    for (int i = 0; i < n; i++) {\n",
    "        for (int j = 0; j < n; j++) {\n",
    "            cin >> graph[i][j];\n",
    "        }\n",
    "    }\n",
    "    cout << \"Enter starting vertex: \";\n",
    "    cin >> start;\n",
    "    #pragma omp parallel num_threads(4)\n",
    "    {\n",
    "        bfs(start, n);\n",
    "    }\n",
    "    cout << \"BFS traversal: \";\n",
    "    for (int i = 0; i < n; i++) {\n",
    "        if (visited[i])\n",
    "            cout << i << \" \";\n",
    "    }\n",
    "    cout << endl;\n",
    "    return 0;\n",
    "}\n"
   ]
  },
  {
   "cell_type": "code",
   "execution_count": 2,
   "metadata": {
    "colab": {
     "base_uri": "https://localhost:8080/"
    },
    "executionInfo": {
     "elapsed": 66189,
     "status": "ok",
     "timestamp": 1745634473632,
     "user": {
      "displayName": "Anil Rathod",
      "userId": "11879838791631308534"
     },
     "user_tz": -330
    },
    "id": "AZJTeYDi25hj",
    "outputId": "f18c1e14-7952-40d0-85ff-1ac6c201913c"
   },
   "outputs": [
    {
     "name": "stdout",
     "output_type": "stream",
     "text": [
      "Enter number of vertices: 4\n",
      "Enter adjacency matrix:\n",
      "0 1 0 0\n",
      "1 0 1 1\n",
      "0 1 0 1\n",
      "0 1 1 0\n",
      "Enter starting vertex: 0\n",
      "BFS traversal: 0 1 2 3 \n"
     ]
    }
   ],
   "source": [
    "!g++ -fopenmp bfs_openmp.cpp -o bfs_openmp\n",
    "!./bfs_openmp\n",
    "\n"
   ]
  },
  {
   "cell_type": "code",
   "execution_count": null,
   "metadata": {
    "id": "A51YY-Ef7H-l"
   },
   "outputs": [],
   "source": [
    "# Enter number of vertices: 4\n",
    "# Enter adjacency matrix:\n",
    "# 0 1 0 0\n",
    "# 1 0 1 1\n",
    "# 0 1 0 1\n",
    "# 0 1 1 0\n",
    "# Enter starting vertex: 0\n",
    "# BFS traversal: 0 1 2 3"
   ]
  }
 ],
 "metadata": {
  "colab": {
   "authorship_tag": "ABX9TyP42coq9DBbiV/JiLgzNzLb",
   "provenance": []
  },
  "kernelspec": {
   "display_name": "Python 3 (ipykernel)",
   "language": "python",
   "name": "python3"
  },
  "language_info": {
   "codemirror_mode": {
    "name": "ipython",
    "version": 3
   },
   "file_extension": ".py",
   "mimetype": "text/x-python",
   "name": "python",
   "nbconvert_exporter": "python",
   "pygments_lexer": "ipython3",
   "version": "3.12.1"
  }
 },
 "nbformat": 4,
 "nbformat_minor": 4
}
