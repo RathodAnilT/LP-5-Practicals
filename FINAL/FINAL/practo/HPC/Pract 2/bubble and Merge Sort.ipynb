{
 "cells": [
  {
   "cell_type": "markdown",
   "metadata": {
    "id": "xIkutlgBDHeq"
   },
   "source": [
    "Practical 2\n",
    "\n",
    "Write a program to implement Parallel Bubble Sort and Merge sort using OpenMP. Use existing algorithms and measure the performance of sequential and parallel algorithms."
   ]
  },
  {
   "cell_type": "code",
   "execution_count": 9,
   "metadata": {
    "colab": {
     "base_uri": "https://localhost:8080/"
    },
    "executionInfo": {
     "elapsed": 22,
     "status": "ok",
     "timestamp": 1745635258302,
     "user": {
      "displayName": "Anil Rathod",
      "userId": "11879838791631308534"
     },
     "user_tz": -330
    },
    "id": "OHV56WgS6sHK",
    "outputId": "8e96d05d-70df-41a5-aa20-bb45b5646da2"
   },
   "outputs": [
    {
     "name": "stdout",
     "output_type": "stream",
     "text": [
      "Overwriting parallel_bubble_sort.cpp\n"
     ]
    }
   ],
   "source": [
    "%%writefile parallel_bubble_sort.cpp\n",
    "#include <omp.h>\n",
    "#include <stdio.h>\n",
    "#include <stdlib.h>\n",
    "\n",
    "// Swap function\n",
    "void swap(int *a, int *b) {\n",
    "    int temp = *a;\n",
    "    *a = *b;\n",
    "    *b = temp;\n",
    "}\n",
    "\n",
    "// Parallel Bubble Sort (Odd-Even Transposition Sort)\n",
    "void parallelBubbleSort(int arr[], int n) {\n",
    "    for (int i = 0; i < n; i++) {\n",
    "        int ans = i % 2;\n",
    "        #pragma omp parallel for shared(arr, n, phase)\n",
    "        for (int j = ans; j < n - 1; j += 2) {\n",
    "            if (arr[j] > arr[j + 1]) {\n",
    "                swap(&arr[j], &arr[j + 1]);\n",
    "            }\n",
    "        }\n",
    "    }\n",
    "}\n",
    "\n",
    "int main() {\n",
    "    int n;\n",
    "    printf(\"Enter number of elements: \");\n",
    "    scanf(\"%d\", &n);\n",
    "\n",
    "    int *arr = (int *)malloc(n * sizeof(int));\n",
    "    printf(\"Enter elements:\\n\");\n",
    "    for (int i = 0; i < n; i++) scanf(\"%d\", &arr[i]);\n",
    "\n",
    "    double start = omp_get_wtime();\n",
    "\n",
    "    parallelBubbleSort(arr, n);\n",
    "\n",
    "    double end = omp_get_wtime();\n",
    "\n",
    "    printf(\"Sorted array:\\n\");\n",
    "    for (int i = 0; i < n; i++) printf(\"%d \", arr[i]);\n",
    "    printf(\"\\nTime taken by Parallel Bubble Sort: %f seconds\\n\", end - start);\n",
    "\n",
    "    free(arr);\n",
    "    return 0;\n",
    "}\n",
    "\n"
   ]
  },
  {
   "cell_type": "code",
   "execution_count": 6,
   "metadata": {
    "colab": {
     "base_uri": "https://localhost:8080/"
    },
    "executionInfo": {
     "elapsed": 153739,
     "status": "ok",
     "timestamp": 1745635180727,
     "user": {
      "displayName": "Anil Rathod",
      "userId": "11879838791631308534"
     },
     "user_tz": -330
    },
    "id": "ntsAsca073D7",
    "outputId": "a426da3f-ad25-417e-b137-fd6796727e15"
   },
   "outputs": [
    {
     "name": "stdout",
     "output_type": "stream",
     "text": [
      "Enter number of elements: 5\n",
      "Enter elements:\n",
      "7\n",
      "8\n",
      "5\n",
      "3\n",
      "1\n",
      "Sorted array:\n",
      "1 3 5 7 8 \n",
      "Time taken by Parallel Bubble Sort: 0.000154 seconds\n"
     ]
    }
   ],
   "source": [
    "!g++ -fopenmp parallel_bubble_sort.cpp -o bubble\n",
    "!./bubble\n"
   ]
  },
  {
   "cell_type": "code",
   "execution_count": 7,
   "metadata": {
    "colab": {
     "base_uri": "https://localhost:8080/"
    },
    "executionInfo": {
     "elapsed": 21,
     "status": "ok",
     "timestamp": 1745635180751,
     "user": {
      "displayName": "Anil Rathod",
      "userId": "11879838791631308534"
     },
     "user_tz": -330
    },
    "id": "EiTqJ_YK8tad",
    "outputId": "80ce75bb-0585-46f2-d338-29b5a903ebab"
   },
   "outputs": [
    {
     "name": "stdout",
     "output_type": "stream",
     "text": [
      "Writing parallel_merge_sort.cpp\n"
     ]
    }
   ],
   "source": [
    "%%writefile parallel_merge_sort.cpp\n",
    "#include <omp.h>\n",
    "#include <stdio.h>\n",
    "#include <stdlib.h>\n",
    "\n",
    "// Merge function for Merge Sort\n",
    "void merge(int arr[], int l, int m, int r) {\n",
    "    int i = l, j = m + 1, k = 0;\n",
    "    int *temp = (int *)malloc((r - l + 1) * sizeof(int));\n",
    "\n",
    "    while (i <= m && j <= r)\n",
    "        temp[k++] = (arr[i] < arr[j]) ? arr[i++] : arr[j++];\n",
    "\n",
    "    while (i <= m) temp[k++] = arr[i++];\n",
    "    while (j <= r) temp[k++] = arr[j++];\n",
    "\n",
    "    for (i = l, k = 0; i <= r; i++, k++) arr[i] = temp[k];\n",
    "\n",
    "    free(temp);\n",
    "}\n",
    "\n",
    "// Parallel Merge Sort\n",
    "void parallelMergeSort(int arr[], int l, int r) {\n",
    "    if (l < r) {\n",
    "        int m = (l + r) / 2;\n",
    "\n",
    "        #pragma omp parallel sections\n",
    "        {\n",
    "            #pragma omp section\n",
    "            parallelMergeSort(arr, l, m);\n",
    "\n",
    "            #pragma omp section\n",
    "            parallelMergeSort(arr, m + 1, r);\n",
    "        }\n",
    "\n",
    "        merge(arr, l, m, r);\n",
    "    }\n",
    "}\n",
    "\n",
    "int main() {\n",
    "    int n;\n",
    "    printf(\"Enter number of elements: \");\n",
    "    scanf(\"%d\", &n);\n",
    "\n",
    "    int *arr = (int *)malloc(n * sizeof(int));\n",
    "    printf(\"Enter elements:\\n\");\n",
    "    for (int i = 0; i < n; i++) scanf(\"%d\", &arr[i]);\n",
    "\n",
    "    double start = omp_get_wtime();\n",
    "\n",
    "    parallelMergeSort(arr, 0, n - 1);\n",
    "\n",
    "    double end = omp_get_wtime();\n",
    "\n",
    "    printf(\"Sorted array:\\n\");\n",
    "    for (int i = 0; i < n; i++) printf(\"%d \", arr[i]);\n",
    "    printf(\"\\nTime taken by Parallel Merge Sort: %f seconds\\n\", end - start);\n",
    "\n",
    "    free(arr);\n",
    "    return 0;\n",
    "}\n"
   ]
  },
  {
   "cell_type": "code",
   "execution_count": 8,
   "metadata": {
    "colab": {
     "base_uri": "https://localhost:8080/"
    },
    "executionInfo": {
     "elapsed": 18048,
     "status": "ok",
     "timestamp": 1745635223029,
     "user": {
      "displayName": "Anil Rathod",
      "userId": "11879838791631308534"
     },
     "user_tz": -330
    },
    "id": "iJNZeqjy9YFq",
    "outputId": "cc5b63cc-b89e-459c-da2a-b0d30ea89133"
   },
   "outputs": [
    {
     "name": "stdout",
     "output_type": "stream",
     "text": [
      "Enter number of elements: 6\n",
      "Enter elements:\n",
      "9\n",
      "78\n",
      "54\n",
      "21\n",
      "12\n",
      "34\n",
      "Sorted array:\n",
      "9 12 21 34 54 78 \n",
      "Time taken by Parallel Merge Sort: 0.000313 seconds\n"
     ]
    }
   ],
   "source": [
    "!g++ -fopenmp parallel_merge_sort.cpp -o merge_sort\n",
    "!./merge_sort\n"
   ]
  }
 ],
 "metadata": {
  "colab": {
   "authorship_tag": "ABX9TyMbr1fvde2O1yOW2PsxFjHi",
   "provenance": []
  },
  "kernelspec": {
   "display_name": "Python 3 (ipykernel)",
   "language": "python",
   "name": "python3"
  },
  "language_info": {
   "codemirror_mode": {
    "name": "ipython",
    "version": 3
   },
   "file_extension": ".py",
   "mimetype": "text/x-python",
   "name": "python",
   "nbconvert_exporter": "python",
   "pygments_lexer": "ipython3",
   "version": "3.12.1"
  }
 },
 "nbformat": 4,
 "nbformat_minor": 4
}
